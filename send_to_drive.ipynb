{
 "cells": [
  {
   "cell_type": "markdown",
   "metadata": {},
   "source": [
    "### Read from mysql"
   ]
  },
  {
   "cell_type": "code",
   "execution_count": 1,
   "metadata": {},
   "outputs": [
    {
     "ename": "ModuleNotFoundError",
     "evalue": "No module named 'pymysql'",
     "output_type": "error",
     "traceback": [
      "\u001b[0;31m---------------------------------------------------------------------------\u001b[0m",
      "\u001b[0;31mModuleNotFoundError\u001b[0m                       Traceback (most recent call last)",
      "\u001b[0;32m<ipython-input-1-866bde2aa0cb>\u001b[0m in \u001b[0;36m<module>\u001b[0;34m()\u001b[0m\n\u001b[1;32m      2\u001b[0m \u001b[0;32mimport\u001b[0m \u001b[0mpandas\u001b[0m \u001b[0;32mas\u001b[0m \u001b[0mpd\u001b[0m\u001b[0;34m\u001b[0m\u001b[0;34m\u001b[0m\u001b[0m\n\u001b[1;32m      3\u001b[0m \u001b[0;32mfrom\u001b[0m \u001b[0msqlalchemy\u001b[0m \u001b[0;32mimport\u001b[0m \u001b[0mcreate_engine\u001b[0m\u001b[0;34m\u001b[0m\u001b[0;34m\u001b[0m\u001b[0m\n\u001b[0;32m----> 4\u001b[0;31m \u001b[0;32mimport\u001b[0m \u001b[0mpymysql\u001b[0m\u001b[0;34m\u001b[0m\u001b[0;34m\u001b[0m\u001b[0m\n\u001b[0m\u001b[1;32m      5\u001b[0m \u001b[0;32mimport\u001b[0m \u001b[0mre\u001b[0m\u001b[0;34m\u001b[0m\u001b[0;34m\u001b[0m\u001b[0m\n\u001b[1;32m      6\u001b[0m \u001b[0;32mimport\u001b[0m \u001b[0mjson\u001b[0m\u001b[0;34m\u001b[0m\u001b[0;34m\u001b[0m\u001b[0m\n",
      "\u001b[0;31mModuleNotFoundError\u001b[0m: No module named 'pymysql'"
     ]
    }
   ],
   "source": [
    "## importing libs\n",
    "import pandas as pd\n",
    "from sqlalchemy import create_engine\n",
    "import pymysql\n",
    "import re\n",
    "import json\n",
    "\n",
    "def create_csv():\n",
    "    ## reading access .json config file\n",
    "    with open('access.json') as json_file:\n",
    "        data = json.load(json_file)\n",
    "\n",
    "        ## parse json\n",
    "        database=data['database'] \n",
    "        user=data['user']\n",
    "        password=data['password']\n",
    "        host=data['host']\n",
    "        port=str(data['port'])\n",
    "        #if need def schema\n",
    "        #schema = data['schema']  \n",
    "\n",
    "    ## Creating connections\n",
    "    con_string = 'mysql+pymysql://'+user+':'+password+'@'+host+':'+port+'/'+database\n",
    "    dbConnection = create_engine(con_string)\n",
    "    dbConnection.connect()\n",
    "\n",
    "    ## mysql query\n",
    "    query = \"\"\"\n",
    "    SELECT vc.name, vc.email, vc.`type`, vc.user_id, vc.created_at, vc.borned_at, COUNT(vo.finished_at) as \"pedidos_finalizados\", DATE_FORMAT(max(vo.finished_at), '%Y-%m-%d') as \"ultimo_pedido\"\n",
    "    FROM ebdb.view_customers vc \n",
    "    Left join ebdb.view_orders vo on vo.customer_email = vc.email \n",
    "    GROUP by vc.email\n",
    "    \"\"\"\n",
    "\n",
    "    ## reading table from mysql\n",
    "    table = pd.read_sql(query, dbConnection)\n",
    "\n",
    "    ## cleanning special characters\n",
    "    table['name'] = table['name'].str.replace('[^\\w\\s#@/:%.,_-]', '', flags=re.UNICODE)\n",
    "    table['email'] = table['email'].str.lower()\n",
    "    table['name'] = table['name'].str.lower()\n",
    "    table['name'] = table['name'].str.title()\n",
    "    table['created_at'] = pd.to_datetime(table['created_at']).dt.strftime('%d/%m/%Y')\n",
    "    table['borned_at'] = pd.to_datetime(table['borned_at']).dt.strftime('%d/%m/%Y')\n",
    "    table['ultimo_pedido'] = pd.to_datetime(table['ultimo_pedido']).dt.strftime('%d/%m/%Y')\n",
    "    \n",
    "    ## creating csv to next script\n",
    "    table.to_csv('database.csv',sep=',',index=False)\n",
    "    \n",
    "    return print(\"database.csv created: {} lines, {} rows\".format(table.shape[0],table.shape[1]))\n"
   ]
  },
  {
   "cell_type": "markdown",
   "metadata": {},
   "source": [
    "### Send to google"
   ]
  },
  {
   "cell_type": "code",
   "execution_count": null,
   "metadata": {},
   "outputs": [],
   "source": [
    "## importing libs\n",
    "import gspread\n",
    "from oauth2client.service_account import ServiceAccountCredentials\n",
    "\n",
    "def send_csv():\n",
    "    ## default scope\n",
    "    scope = [\"https://spreadsheets.google.com/feeds\", 'https://www.googleapis.com/auth/spreadsheets',\n",
    "             \"https://www.googleapis.com/auth/drive.file\", \"https://www.googleapis.com/auth/drive\"]\n",
    "\n",
    "    ## reading credentials\n",
    "    credentials = ServiceAccountCredentials.from_json_keyfile_name('client_secret.json', scope)\n",
    "\n",
    "    ## authorizing connection \n",
    "    client = gspread.authorize(credentials)\n",
    "\n",
    "    ## accessing google sheet\n",
    "    spreadsheet = client.open('database_perpetuo_pinn')\n",
    "\n",
    "    ## reading file\n",
    "    with open('database.csv', 'r') as file_obj:\n",
    "        content = file_obj.read()\n",
    "\n",
    "    ## sending csv\n",
    "    client.import_csv(spreadsheet.id, data=content)\n",
    "    \n",
    "    return print(\"enviado\")"
   ]
  },
  {
   "cell_type": "markdown",
   "metadata": {},
   "source": [
    "# Main"
   ]
  },
  {
   "cell_type": "code",
   "execution_count": null,
   "metadata": {},
   "outputs": [],
   "source": [
    "create_csv()\n",
    "send_csv()"
   ]
  }
 ],
 "metadata": {
  "kernelspec": {
   "display_name": "Python 3",
   "language": "python",
   "name": "python3"
  },
  "language_info": {
   "codemirror_mode": {
    "name": "ipython",
    "version": 3
   },
   "file_extension": ".py",
   "mimetype": "text/x-python",
   "name": "python",
   "nbconvert_exporter": "python",
   "pygments_lexer": "ipython3",
   "version": "3.7.8"
  }
 },
 "nbformat": 4,
 "nbformat_minor": 4
}
